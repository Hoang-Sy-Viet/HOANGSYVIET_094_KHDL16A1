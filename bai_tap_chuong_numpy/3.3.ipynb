{
 "cells": [
  {
   "cell_type": "code",
   "execution_count": 5,
   "metadata": {},
   "outputs": [],
   "source": [
    "import numpy as np"
   ]
  },
  {
   "cell_type": "code",
   "execution_count": 13,
   "metadata": {},
   "outputs": [
    {
     "name": "stdout",
     "output_type": "stream",
     "text": [
      "[2 2 4 4]\n",
      "[1 3 3 3 5 6]\n",
      "[ 6  9 10  8  6]\n"
     ]
    }
   ],
   "source": [
    "arr_a = [1,2,3,2,3,4,3,4,5,6]\n",
    "arr_b = [7,2,10,2,7,4,9,4,9,8]\n",
    "# 1:\n",
    "# cach 1:\n",
    "# lst= []\n",
    "# for i in arr_a:\n",
    "#     if i in arr_b:\n",
    "#         lst.append(i)\n",
    "# print(lst)\n",
    "# cach 2:\n",
    "arr_c = np.array([i for i in arr_a if i in arr_b])\n",
    "print(arr_c)\n",
    "\n",
    "# 2:\n",
    "arr_d = np.array([x for x in arr_a if x  not in arr_b])\n",
    "print(arr_d)\n",
    "\n",
    "# 3:\n",
    "arr_e = np.array([2, 6, 1, 9, 10, 3, 27, 8, 6, 25, 16])\n",
    "arr_f  = arr_e[ (arr_e>=5) & (arr_e<=10)]\n",
    "print(arr_f)"
   ]
  }
 ],
 "metadata": {
  "kernelspec": {
   "display_name": "base",
   "language": "python",
   "name": "python3"
  },
  "language_info": {
   "codemirror_mode": {
    "name": "ipython",
    "version": 3
   },
   "file_extension": ".py",
   "mimetype": "text/x-python",
   "name": "python",
   "nbconvert_exporter": "python",
   "pygments_lexer": "ipython3",
   "version": "3.11.4"
  }
 },
 "nbformat": 4,
 "nbformat_minor": 2
}
