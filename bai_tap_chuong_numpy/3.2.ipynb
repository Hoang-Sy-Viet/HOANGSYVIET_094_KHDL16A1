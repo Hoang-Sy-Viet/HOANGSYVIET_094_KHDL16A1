{
 "cells": [
  {
   "cell_type": "code",
   "execution_count": 1,
   "metadata": {},
   "outputs": [],
   "source": [
    "import numpy as np"
   ]
  },
  {
   "cell_type": "code",
   "execution_count": 2,
   "metadata": {},
   "outputs": [
    {
     "name": "stdout",
     "output_type": "stream",
     "text": [
      "[0 1 2 3 4 5 6 7 8 9]\n",
      "int32\n",
      "10\n"
     ]
    }
   ],
   "source": [
    "# 1:\n",
    "arr = np.arange(10)\n",
    "print(arr)\n",
    "print(arr.dtype)\n",
    "print(arr.size)"
   ]
  },
  {
   "cell_type": "code",
   "execution_count": 3,
   "metadata": {},
   "outputs": [
    {
     "name": "stdout",
     "output_type": "stream",
     "text": [
      "arr_odd:\n",
      "[0 2 4 6 8]\n",
      "arr_even:\n",
      "[1 3 5 7 9]\n"
     ]
    }
   ],
   "source": [
    "# 2\n",
    "arr_odd = arr[:]%2 ==0\n",
    "print(f\"arr_odd:\\n{arr[arr_odd]}\")\n",
    "# arr_even = np.array([i for i in arr if i %2!= 0])\n",
    "# print(f\"arr_even:\\n{arr_even}\")\n",
    "# cach 2:\n",
    "arr_even = arr[~arr_odd]\n",
    "print(f\"arr_even:\\n{arr_even}\")"
   ]
  },
  {
   "cell_type": "code",
   "execution_count": 4,
   "metadata": {},
   "outputs": [
    {
     "name": "stdout",
     "output_type": "stream",
     "text": [
      "arr_update_1: [  0 100   2 100   4 100   6 100   8 100]\n"
     ]
    }
   ],
   "source": [
    "# 3\n",
    "arr_update_1 = np.where(arr[:]%2==0,arr,100)\n",
    "print(\"arr_update_1:\",arr_update_1)"
   ]
  }
 ],
 "metadata": {
  "kernelspec": {
   "display_name": "base",
   "language": "python",
   "name": "python3"
  },
  "language_info": {
   "codemirror_mode": {
    "name": "ipython",
    "version": 3
   },
   "file_extension": ".py",
   "mimetype": "text/x-python",
   "name": "python",
   "nbconvert_exporter": "python",
   "pygments_lexer": "ipython3",
   "version": "3.11.4"
  }
 },
 "nbformat": 4,
 "nbformat_minor": 2
}
