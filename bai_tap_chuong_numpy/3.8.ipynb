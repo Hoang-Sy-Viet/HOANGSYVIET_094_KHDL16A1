{
 "cells": [
  {
   "cell_type": "code",
   "execution_count": 1,
   "metadata": {},
   "outputs": [],
   "source": [
    "import numpy as np"
   ]
  },
  {
   "cell_type": "code",
   "execution_count": 5,
   "metadata": {},
   "outputs": [],
   "source": [
    "# doc file\n",
    "heights = []\n",
    "with open(\"heights.txt\",'r',encoding=\"utf-8-sig\") as f:\n",
    "    reader = f.read().split(',')\n",
    "    for i in reader:\n",
    "        heights.append(float(i))\n",
    "# doc file position:\n",
    "position =[]\n",
    "with open(\"positions.txt\",'r',encoding=\"utf-8-sig\") as f_:\n",
    "    reader_ = f_.read().split(',')\n",
    "    for i in reader_:\n",
    "        position.append(i)\n",
    " "
   ]
  },
  {
   "cell_type": "code",
   "execution_count": 6,
   "metadata": {},
   "outputs": [
    {
     "name": "stdout",
     "output_type": "stream",
     "text": [
      "[191. 184. 185. ... 183. 179. 179.]\n",
      "float64\n",
      "\n",
      "['GK' 'M' 'A' ... 'D' 'D' 'M']\n",
      "<U2\n"
     ]
    }
   ],
   "source": [
    "# 1:\n",
    "np_heights = np.array(heights)\n",
    "np_position = np.array(position)\n",
    "print(np_heights)\n",
    "print(np_heights.dtype)\n",
    "print()\n",
    "print(np_position)\n",
    "print(np_position.dtype)"
   ]
  },
  {
   "cell_type": "code",
   "execution_count": 22,
   "metadata": {},
   "outputs": [
    {
     "name": "stdout",
     "output_type": "stream",
     "text": [
      "chieu cao trung binh cua GK la:188.23333333333332\n"
     ]
    }
   ],
   "source": [
    "# 2:\n",
    "heights_position_gk = np_heights[np_position =='GK']\n",
    "heights_tb_gk = np.mean(heights_position_gk)\n",
    "print(f\"chieu cao trung binh cua GK la:{heights_tb_gk}\")"
   ]
  },
  {
   "cell_type": "code",
   "execution_count": 24,
   "metadata": {},
   "outputs": [
    {
     "name": "stdout",
     "output_type": "stream",
     "text": [
      "chieu cao trung binh cua cac vi tri khac:180.98888467853985\n"
     ]
    }
   ],
   "source": [
    "# 3:\n",
    "heights_position_other = np_heights[np_position != \"GK\"]\n",
    "heights_tb_other = np.mean(heights_position_other)\n",
    "print(f\"chieu cao trung binh cua cac vi tri khac:{heights_tb_other}\")"
   ]
  },
  {
   "cell_type": "code",
   "execution_count": 32,
   "metadata": {},
   "outputs": [
    {
     "name": "stdout",
     "output_type": "stream",
     "text": [
      "[('GK', 191.) ('M', 184.) ('A', 185.) ... ('D', 183.) ('D', 179.)\n",
      " ('M', 179.)]\n"
     ]
    }
   ],
   "source": [
    "# 4:\n",
    "dtype  = [ (\"position\",\"U5\"),(\"heights\",float)]\n",
    "players  = np.zeros(len(np_position),dtype=dtype) \n",
    "players[\"position\"] = np_position\n",
    "players[\"heights\"] = np_heights\n",
    "print(players)"
   ]
  },
  {
   "cell_type": "code",
   "execution_count": 41,
   "metadata": {},
   "outputs": [
    {
     "name": "stdout",
     "output_type": "stream",
     "text": [
      "[('M', 158.) ('A', 160.) ('M', 160.) ... ('A', 203.) ('GK', 203.)\n",
      " ('GK', 208.)]\n",
      " vị trí có chiều cao cao nhất là:GK\n",
      "vị trí có chiều cao thấp nhất là:M\n"
     ]
    }
   ],
   "source": [
    "# 5:\n",
    "\n",
    "players_sort = np.sort(players,order=\"heights\")\n",
    "print(players_sort)\n",
    "print(f\" vị trí có chiều cao cao nhất là:{players_sort[-1][0]}\")\n",
    "print(f\"vị trí có chiều cao thấp nhất là:{players_sort[0][0]}\")"
   ]
  }
 ],
 "metadata": {
  "kernelspec": {
   "display_name": "base",
   "language": "python",
   "name": "python3"
  },
  "language_info": {
   "codemirror_mode": {
    "name": "ipython",
    "version": 3
   },
   "file_extension": ".py",
   "mimetype": "text/x-python",
   "name": "python",
   "nbconvert_exporter": "python",
   "pygments_lexer": "ipython3",
   "version": "3.11.4"
  }
 },
 "nbformat": 4,
 "nbformat_minor": 2
}
