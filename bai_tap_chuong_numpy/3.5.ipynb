{
 "cells": [
  {
   "cell_type": "code",
   "execution_count": 2,
   "metadata": {},
   "outputs": [],
   "source": [
    "import numpy as np \n"
   ]
  },
  {
   "cell_type": "code",
   "execution_count": 3,
   "metadata": {},
   "outputs": [
    {
     "name": "stdout",
     "output_type": "stream",
     "text": [
      "[74. 74. 72. ... 75. 75. 73.]\n",
      "[180. 215. 210. ... 205. 190. 195.]\n"
     ]
    }
   ],
   "source": [
    "# Đọc dữ liệu từ tập tin heights_1.txt vào list height\n",
    "height =[]\n",
    "with open(\"heights_1.txt\",'r', encoding='utf-8-sig' ) as f:\n",
    "    reader = f.read().split(',')\n",
    "    for i in reader:\n",
    "        height.append(float(i))  \n",
    "arr_heights = np.array(height)\n",
    "# \n",
    "weight =[]\n",
    "with open(\"weights_1.txt\",'r',encoding='utf-8-sig' ) as f:\n",
    "    reader_ = f.read().split(',')\n",
    "    for i in reader_:\n",
    "        weight.append(float(i))  \n",
    "arr_weights = np.array(weight)\n",
    "print(arr_heights)\n",
    "print(arr_weights)\n"
   ]
  },
  {
   "cell_type": "code",
   "execution_count": 4,
   "metadata": {},
   "outputs": [
    {
     "name": "stdout",
     "output_type": "stream",
     "text": [
      "arr_heights: [74. 74. 72. ... 75. 75. 73.]\n",
      "arr_weights: [180. 215. 210. ... 205. 190. 195.]\n",
      "arr_heights_m:  [1.8796 1.8796 1.8288 ... 1.905  1.905  1.8542]\n",
      "arr_weights_m:  [81.64656 97.52228 95.25432 ... 92.98636 86.18248 88.45044]\n"
     ]
    }
   ],
   "source": [
    "# 1\n",
    "print(\"arr_heights:\",arr_heights)\n",
    "# 2\n",
    "print(\"arr_weights:\",arr_weights)\n",
    "# 3\n",
    "arr_heights_m = np.array([i*0.0254 for i in arr_heights])\n",
    "print(f\"arr_heights_m: \",arr_heights_m)\n",
    "# 4\n",
    "arr_weights_kg = np.array([i*0.453592 for i in arr_weights])\n",
    "print(f\"arr_weights_m: \",arr_weights_kg)"
   ]
  },
  {
   "cell_type": "code",
   "execution_count": 5,
   "metadata": {},
   "outputs": [
    {
     "name": "stdout",
     "output_type": "stream",
     "text": [
      "arr_BMI: [23.11037639 27.60406069 28.48080465 ... 25.62295933 23.74810865\n",
      " 25.72686361]\n"
     ]
    }
   ],
   "source": [
    "# 5\n",
    "arr_BMI = np.array([])\n",
    "for i in range(0,len(arr_heights)):\n",
    "    arr_BMI = np.append(arr_BMI,arr_weights_kg[i]/(arr_heights_m[i]**2))\n",
    "print(\"arr_BMI:\",arr_BMI)"
   ]
  },
  {
   "cell_type": "code",
   "execution_count": 6,
   "metadata": {},
   "outputs": [
    {
     "name": "stdout",
     "output_type": "stream",
     "text": [
      "90.7184 (kg)\n"
     ]
    }
   ],
   "source": [
    "# 6\n",
    "print(arr_weights_kg[50],\"(kg)\")"
   ]
  },
  {
   "cell_type": "code",
   "execution_count": 7,
   "metadata": {},
   "outputs": [
    {
     "name": "stdout",
     "output_type": "stream",
     "text": [
      "[1.8542 1.8796 1.8288 1.8542 1.7526 1.8288 1.8542 1.905  1.905  1.8542\n",
      " 1.8288]\n"
     ]
    }
   ],
   "source": [
    "# 7\n",
    "arr_heights_m_100 = arr_heights_m[100:111]\n",
    "print(arr_heights_m_100)\n"
   ]
  },
  {
   "cell_type": "code",
   "execution_count": 8,
   "metadata": {},
   "outputs": [
    {
     "name": "stdout",
     "output_type": "stream",
     "text": [
      "các cầu thủ bóng chày có bmi < 21 :[20.54255679 20.54255679 20.69282047 20.69282047 20.34343189 20.34343189\n",
      " 20.69282047 20.15883472 19.4984471  20.69282047 20.9205219 ]\n"
     ]
    }
   ],
   "source": [
    "# 8\n",
    "mask = arr_BMI <21\n",
    "print(f\"các cầu thủ bóng chày có bmi < 21 :{arr_BMI[mask]}\")"
   ]
  },
  {
   "cell_type": "code",
   "execution_count": 29,
   "metadata": {},
   "outputs": [
    {
     "name": "stdout",
     "output_type": "stream",
     "text": [
      "chiều cao trung bình của cầu thủ bmi:1.8717172413793\n",
      "cân nặng trung bình của cầu thủ bmi :91.3301905891624\n"
     ]
    }
   ],
   "source": [
    "# 9 :chiều cao trung binhf và cân nặng trung bình\n",
    "print(\"chiều cao trung bình của cầu thủ bmi:\",end='')\n",
    "print(sum(arr_heights_m)/len(arr_heights_m))\n",
    "\n",
    "print(f\"cân nặng trung bình của cầu thủ bmi :{sum(arr_weights_kg)/len(arr_weights_kg)}\")\n"
   ]
  },
  {
   "cell_type": "code",
   "execution_count": 38,
   "metadata": {},
   "outputs": [
    {
     "name": "stdout",
     "output_type": "stream",
     "text": [
      "chiều cao và cân nặng lớn nhất của cầu thủ bmi :\n",
      "chiều cao           cân nặng            \n",
      "2.1082              131.54167999999999  \n",
      "\n",
      "chiều cao và cân nặng nhỏ nhất của cầu thủ bmi :\n",
      "chiều cao           cân nặng            \n",
      "2.1082              131.54167999999999  \n"
     ]
    }
   ],
   "source": [
    "# 10:\n",
    "heights_increase = np.sort(arr_heights_m)\n",
    "weights_increase = np.sort(arr_weights_kg)\n",
    "\n",
    "print(\"chiều cao và cân nặng lớn nhất của cầu thủ bmi :\")\n",
    "print(\"{:<20}{:<20}\".format(\"chiều cao\",\"cân nặng\"))\n",
    "print(\"{:<20}{:<20}\".format(heights_increase[-1],weights_increase[-1]))\n",
    "\n",
    "# 11\n",
    "print()\n",
    "print(\"chiều cao và cân nặng nhỏ nhất của cầu thủ bmi :\")\n",
    "print(\"{:<20}{:<20}\".format(\"chiều cao\",\"cân nặng\"))\n",
    "print(\"{:<20}{:<20}\".format(heights_increase[-1],weights_increase[-1]))\n",
    "\n"
   ]
  }
 ],
 "metadata": {
  "kernelspec": {
   "display_name": "base",
   "language": "python",
   "name": "python3"
  },
  "language_info": {
   "codemirror_mode": {
    "name": "ipython",
    "version": 3
   },
   "file_extension": ".py",
   "mimetype": "text/x-python",
   "name": "python",
   "nbconvert_exporter": "python",
   "pygments_lexer": "ipython3",
   "version": "3.11.4"
  }
 },
 "nbformat": 4,
 "nbformat_minor": 2
}
